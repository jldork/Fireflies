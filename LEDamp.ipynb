{
 "metadata": {
  "name": "",
  "signature": "sha256:4d9ed9a367487434a45c3690522a9f3e6a87653214b9572facbf37222901418d"
 },
 "nbformat": 3,
 "nbformat_minor": 0,
 "worksheets": [
  {
   "cells": [
    {
     "cell_type": "markdown",
     "metadata": {},
     "source": [
      "Import all requirements"
     ]
    },
    {
     "cell_type": "code",
     "collapsed": false,
     "input": [
      "import pyaudio\n",
      "import serial\n",
      "import audioop\n",
      "import sys\n",
      "import math"
     ],
     "language": "python",
     "metadata": {},
     "outputs": [],
     "prompt_number": 1
    },
    {
     "cell_type": "markdown",
     "metadata": {},
     "source": [
      "Create a function that spits out all audio devices"
     ]
    },
    {
     "cell_type": "code",
     "collapsed": false,
     "input": [
      "def list_devices():\n",
      "    # List all audio input devices\n",
      "    p = pyaudio.PyAudio()\n",
      "    i = 0\n",
      "    n = p.get_device_count()\n",
      "    while i < n:\n",
      "        dev = p.get_device_info_by_index(i)\n",
      "        if dev['maxInputChannels'] > 0:\n",
      "            print str(i)+'. '+dev['name']\n",
      "        i += 1"
     ],
     "language": "python",
     "metadata": {},
     "outputs": [],
     "prompt_number": 2
    },
    {
     "cell_type": "code",
     "collapsed": false,
     "input": [
      "#test output\n",
      "list_devices()"
     ],
     "language": "python",
     "metadata": {},
     "outputs": [
      {
       "output_type": "stream",
       "stream": "stdout",
       "text": [
        "0. HDA Intel PCH: ALC275 Analog (hw:0,0)\n",
        "2. sysdefault\n",
        "8. pulse\n",
        "10. default\n"
       ]
      }
     ],
     "prompt_number": 3
    },
    {
     "cell_type": "code",
     "collapsed": false,
     "input": [
      "def arduino_soundlight():\n",
      "    chunk    = 2084 # Change if too fast/slow, never less than 1024\n",
      "    scale    = 50   # Change if too dim/bright\n",
      "    exponent = 4    # Change if too little/too much difference between loud and quiet sounds\n",
      "\n",
      "    # CHANGE THIS TO CORRECT INPUT DEVICE\n",
      "    # Enable stereo mixing in your sound card\n",
      "    # to make you sound output an input\n",
      "    # Use list_devices() to list all your input devices\n",
      "    device   = 8\n",
      "\n",
      "    p = pyaudio.PyAudio()\n",
      "    stream = p.open(format = pyaudio.paInt16,\n",
      "                    channels = 1,\n",
      "                    rate = 44100,\n",
      "                    input = True,\n",
      "                    frames_per_buffer = chunk,\n",
      "                    input_device_index = device)\n",
      "\n",
      "    print \"Starting, use Ctrl+C to stop\"\n",
      "    try:\n",
      "        ser = serial.Serial(port='/dev/ttyUSB1')\n",
      "        while True:\n",
      "            data  = stream.read(chunk)\n",
      "            rms   = audioop.rms(data, 2)\n",
      "\n",
      "            level = min(rms / (2.0 ** 16) * scale, 1.0)\n",
      "            level = level**exponent\n",
      "            level = int(level * 255)\n",
      "            print level\n",
      "            ser.write(chr(level))\n",
      "\n",
      "    except KeyboardInterrupt:\n",
      "        pass\n",
      "    finally:\n",
      "        print \"\\nStopping\"\n",
      "        stream.close()\n",
      "        p.terminate()\n",
      "        ser.close()\n",
      "\n",
      "#if __name__ == '__main__':\n",
      "    #list_devices()\n",
      "#    arduino_soundlight()\n"
     ],
     "language": "python",
     "metadata": {},
     "outputs": [],
     "prompt_number": 22
    },
    {
     "cell_type": "code",
     "collapsed": false,
     "input": [
      "arduino_soundlight()\n"
     ],
     "language": "python",
     "metadata": {},
     "outputs": [
      {
       "output_type": "stream",
       "stream": "stdout",
       "text": [
        "Starting, use Ctrl+C to stop\n",
        "\n",
        "Stopping\n"
       ]
      },
      {
       "ename": "UnboundLocalError",
       "evalue": "local variable 'ser' referenced before assignment",
       "output_type": "pyerr",
       "traceback": [
        "\u001b[1;31m---------------------------------------------------------------------------\u001b[0m\n\u001b[1;31mUnboundLocalError\u001b[0m                         Traceback (most recent call last)",
        "\u001b[1;32m<ipython-input-23-4877b0528b59>\u001b[0m in \u001b[0;36m<module>\u001b[1;34m()\u001b[0m\n\u001b[1;32m----> 1\u001b[1;33m \u001b[0marduino_soundlight\u001b[0m\u001b[1;33m(\u001b[0m\u001b[1;33m)\u001b[0m\u001b[1;33m\u001b[0m\u001b[0m\n\u001b[0m",
        "\u001b[1;32m<ipython-input-22-2b1bbdc7ddfd>\u001b[0m in \u001b[0;36marduino_soundlight\u001b[1;34m()\u001b[0m\n\u001b[0;32m     37\u001b[0m         \u001b[0mstream\u001b[0m\u001b[1;33m.\u001b[0m\u001b[0mclose\u001b[0m\u001b[1;33m(\u001b[0m\u001b[1;33m)\u001b[0m\u001b[1;33m\u001b[0m\u001b[0m\n\u001b[0;32m     38\u001b[0m         \u001b[0mp\u001b[0m\u001b[1;33m.\u001b[0m\u001b[0mterminate\u001b[0m\u001b[1;33m(\u001b[0m\u001b[1;33m)\u001b[0m\u001b[1;33m\u001b[0m\u001b[0m\n\u001b[1;32m---> 39\u001b[1;33m         \u001b[0mser\u001b[0m\u001b[1;33m.\u001b[0m\u001b[0mclose\u001b[0m\u001b[1;33m(\u001b[0m\u001b[1;33m)\u001b[0m\u001b[1;33m\u001b[0m\u001b[0m\n\u001b[0m\u001b[0;32m     40\u001b[0m \u001b[1;33m\u001b[0m\u001b[0m\n\u001b[0;32m     41\u001b[0m \u001b[1;31m#if __name__ == '__main__':\u001b[0m\u001b[1;33m\u001b[0m\u001b[1;33m\u001b[0m\u001b[0m\n",
        "\u001b[1;31mUnboundLocalError\u001b[0m: local variable 'ser' referenced before assignment"
       ]
      }
     ],
     "prompt_number": 23
    },
    {
     "cell_type": "code",
     "collapsed": false,
     "input": [],
     "language": "python",
     "metadata": {},
     "outputs": []
    }
   ],
   "metadata": {}
  }
 ]
}